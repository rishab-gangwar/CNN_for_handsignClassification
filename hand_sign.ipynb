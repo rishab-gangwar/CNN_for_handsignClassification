{
 "cells": [
  {
   "cell_type": "code",
   "execution_count": 1,
   "metadata": {},
   "outputs": [],
   "source": [
    "import numpy as np\n",
    "import h5py\n",
    "import tensorflow as tf\n",
    "from helping import *\n",
    "import matplotlib.pyplot as plt\n",
    "from tensorflow.python.framework import ops"
   ]
  },
  {
   "cell_type": "code",
   "execution_count": 2,
   "metadata": {},
   "outputs": [
    {
     "name": "stdout",
     "output_type": "stream",
     "text": [
      "1.13.1\n"
     ]
    }
   ],
   "source": [
    "print(tf.__version__)\n",
    "X_train,X_test,Y_train,Y_test,classes=load_datasets()"
   ]
  },
  {
   "cell_type": "code",
   "execution_count": 3,
   "metadata": {},
   "outputs": [
    {
     "data": {
      "text/plain": [
       "(1080, 64, 64, 3)"
      ]
     },
     "execution_count": 3,
     "metadata": {},
     "output_type": "execute_result"
    }
   ],
   "source": [
    "X_train.shape"
   ]
  },
  {
   "cell_type": "code",
   "execution_count": 4,
   "metadata": {},
   "outputs": [
    {
     "data": {
      "text/plain": [
       "(120, 64, 64, 3)"
      ]
     },
     "execution_count": 4,
     "metadata": {},
     "output_type": "execute_result"
    }
   ],
   "source": [
    "X_test.shape"
   ]
  },
  {
   "cell_type": "code",
   "execution_count": 5,
   "metadata": {},
   "outputs": [
    {
     "name": "stdout",
     "output_type": "stream",
     "text": [
      "[[0 0 0 5 1 0 3 1 5 1 5 1 3 1 1 3 5 4 0 4 5 4 2 5 3 5 4 2 1 2 3 1 0 3 1 1\n",
      "  0 4 2 3 0 3 0 2 3 1 2 2 0 3 4 1 2 0 4 0 4 0 4 4 5 5 2 4 4 5 0 1 3 5 0 4\n",
      "  1 2 3 4 3 5 1 5 2 0 1 4 2 4 4 1 4 5 5 0 0 5 5 5 3 3 5 2 2 2 0 2 5 3 0 2\n",
      "  3 4 1 3 2 4 2 2 1 3 1 3]]\n"
     ]
    },
    {
     "data": {
      "image/png": "[encoded data removed]",
      "text/plain": [
       "<Figure size 432x288 with 1 Axes>"
      ]
     },
     "metadata": {
      "needs_background": "light"
     },
     "output_type": "display_data"
    }
   ],
   "source": [
    "plt.imshow(X_test[1])\n",
    "print(Y_test)"
   ]
  },
  {
   "cell_type": "code",
   "execution_count": 6,
   "metadata": {},
   "outputs": [],
   "source": [
    "X_train=X_train/255\n",
    "X_test=X_test/255\n",
    "Y_train=one_h_encoding(Y_train,6).T\n",
    "Y_test=one_h_encoding(Y_test,6).T"
   ]
  },
  {
   "cell_type": "code",
   "execution_count": 7,
   "metadata": {},
   "outputs": [
    {
     "name": "stdout",
     "output_type": "stream",
     "text": [
      "(1080, 64, 64, 3) (120, 64, 64, 3) (1080, 6) (120, 6)\n"
     ]
    }
   ],
   "source": [
    "print(X_train.shape,X_test.shape,Y_train.shape,Y_test.shape)"
   ]
  },
  {
   "cell_type": "code",
   "execution_count": 8,
   "metadata": {},
   "outputs": [],
   "source": [
    "def create_placeholders(n_H0, n_W0, n_C0, n_y):\n",
    "    X=tf.placeholder(tf.float32,[None,n_H0, n_W0, n_C0])\n",
    "    Y=tf.placeholder(tf.float32,[None,n_y])\n",
    "    return X,Y    "
   ]
  },
  {
   "cell_type": "code",
   "execution_count": 9,
   "metadata": {},
   "outputs": [],
   "source": [
    "def initialize_parameters():\n",
    "    W1=tf.get_variable(\"W1\",[4,4,3,8],initializer=tf.contrib.layers.xavier_initializer(seed = 0))\n",
    "    W2=tf.get_variable(\"W2\",[2,2,8,16],initializer=tf.contrib.layers.xavier_initializer(seed = 0))\n",
    "    parameters = {\"W1\": W1,\n",
    "                  \"W2\": W2}\n",
    "    return parameters"
   ]
  },
  {
   "cell_type": "code",
   "execution_count": 10,
   "metadata": {},
   "outputs": [],
   "source": [
    "def forward_pass(X,parameters):\n",
    "    W1=parameters[\"W1\"]\n",
    "    W2=parameters[\"W2\"]\n",
    "    Z1=tf.nn.conv2d(X,W1,strides=[1,1,1,1],padding='SAME')\n",
    "    A1=tf.nn.relu(Z1)\n",
    "    P1=tf.nn.max_pool(A1,ksize=[1,8,8,1],strides=[1,8,8,1],padding='SAME')\n",
    "    Z2=tf.nn.conv2d(P1,W2,strides=[1,1,1,1],padding='SAME')\n",
    "    A2=tf.nn.relu(Z2)\n",
    "    P2=tf.nn.max_pool(A2,ksize=[1,4,4,1],strides=[1,4,4,1],padding='SAME')\n",
    "    F=tf.contrib.layers.flatten(P2)\n",
    "    Z3=tf.contrib.layers.fully_connected(F,6,activation_fn=None)\n",
    "    return Z3"
   ]
  },
  {
   "cell_type": "code",
   "execution_count": 11,
   "metadata": {},
   "outputs": [],
   "source": [
    "def compute_cost(Z3,Y):\n",
    "    cost=tf.reduce_mean(tf.nn.softmax_cross_entropy_with_logits(logits = Z3, labels = Y))\n",
    "    return cost"
   ]
  },
  {
   "cell_type": "code",
   "execution_count": 20,
   "metadata": {},
   "outputs": [],
   "source": [
    "# GRADED FUNCTION: model\n",
    "\n",
    "def model(X_train, Y_train, X_test, Y_test, learning_rate = 0.005,\n",
    "          num_epochs =500,minibatch_size = 64, print_cost = True):\n",
    "    ops.reset_default_graph()                         \n",
    "    tf.set_random_seed(1)                             \n",
    "    seed = 3                                        \n",
    "    (m, n_H0, n_W0, n_C0) = X_train.shape             \n",
    "    n_y = Y_train.shape[1]                            \n",
    "    costs = []                                       \n",
    "    X, Y = create_placeholders(n_H0, n_W0, n_C0, n_y)\n",
    "    parameters = initialize_parameters()\n",
    "    Z3 =forward_pass(X,parameters)\n",
    "    cost = compute_cost(Z3,Y)\n",
    "    optimizer = tf.train.AdamOptimizer(learning_rate=learning_rate).minimize(cost)\n",
    "    init = tf.global_variables_initializer()\n",
    "    with tf.Session() as sess:\n",
    "        sess.run(init)\n",
    "        for epoch in range(num_epochs):\n",
    "\n",
    "            minibatch_cost = 0.\n",
    "            num_minibatches = int(m / minibatch_size)\n",
    "            seed = seed + 1\n",
    "            minibatches = random_minibatchs(X_train, Y_train, minibatch_size, seed)\n",
    "\n",
    "            for minibatch in minibatches:\n",
    "                (minibatch_X, minibatch_Y) = minibatch\n",
    "                _ , temp_cost = sess.run([optimizer, cost],\n",
    "                                                feed_dict={X:minibatch_X ,\n",
    "                                                           Y:minibatch_Y})\n",
    "                \n",
    "                minibatch_cost += temp_cost / num_minibatches\n",
    "            if print_cost == True and epoch % 5 == 0:\n",
    "                print (\"Cost after epoch %i: %f\" % (epoch, minibatch_cost))\n",
    "            if print_cost == True and epoch % 1 == 0:\n",
    "                costs.append(minibatch_cost)\n",
    "        plt.plot(np.squeeze(costs))\n",
    "        plt.ylabel('cost')\n",
    "        plt.xlabel('iterations (per tens)')\n",
    "        plt.title(\"Learning rate =\" + str(learning_rate))\n",
    "        plt.show()\n",
    "        predict_op = tf.argmax(Z3, 1)\n",
    "        correct_prediction = tf.equal(predict_op, tf.argmax(Y, 1))\n",
    "        accuracy = tf.reduce_mean(tf.cast(correct_prediction, \"float\"))\n",
    "        print(accuracy)\n",
    "        train_accuracy = accuracy.eval({X: X_train, Y: Y_train})\n",
    "        test_accuracy = accuracy.eval({X: X_test, Y: Y_test})\n",
    "        print(\"Train Accuracy:\", train_accuracy)\n",
    "        print(\"Test Accuracy:\", test_accuracy)\n",
    "                \n",
    "        return train_accuracy, test_accuracy, parameters"
   ]
  },
  {
   "cell_type": "code",
   "execution_count": 21,
   "metadata": {},
   "outputs": [
    {
     "name": "stdout",
     "output_type": "stream",
     "text": [
      "Cost after epoch 0: 1.927888\n",
      "Cost after epoch 5: 1.854635\n",
      "Cost after epoch 10: 1.439450\n",
      "Cost after epoch 15: 1.160200\n",
      "Cost after epoch 20: 0.871293\n",
      "Cost after epoch 25: 0.696556\n",
      "Cost after epoch 30: 0.577709\n",
      "Cost after epoch 35: 0.502007\n",
      "Cost after epoch 40: 0.434006\n",
      "Cost after epoch 45: 0.397068\n",
      "Cost after epoch 50: 0.379742\n",
      "Cost after epoch 55: 0.352013\n",
      "Cost after epoch 60: 0.313656\n",
      "Cost after epoch 65: 0.310130\n",
      "Cost after epoch 70: 0.315336\n",
      "Cost after epoch 75: 0.263555\n",
      "Cost after epoch 80: 0.254034\n",
      "Cost after epoch 85: 0.244140\n",
      "Cost after epoch 90: 0.202095\n",
      "Cost after epoch 95: 0.204904\n",
      "Cost after epoch 100: 0.175471\n",
      "Cost after epoch 105: 0.171691\n",
      "Cost after epoch 110: 0.215848\n",
      "Cost after epoch 115: 0.153194\n",
      "Cost after epoch 120: 0.155095\n",
      "Cost after epoch 125: 0.162249\n",
      "Cost after epoch 130: 0.122017\n",
      "Cost after epoch 135: 0.113472\n",
      "Cost after epoch 140: 0.158914\n",
      "Cost after epoch 145: 0.107801\n",
      "Cost after epoch 150: 0.091629\n",
      "Cost after epoch 155: 0.093330\n",
      "Cost after epoch 160: 0.092120\n",
      "Cost after epoch 165: 0.090524\n",
      "Cost after epoch 170: 0.076064\n",
      "Cost after epoch 175: 0.069009\n",
      "Cost after epoch 180: 0.096469\n",
      "Cost after epoch 185: 0.061907\n",
      "Cost after epoch 190: 0.061205\n",
      "Cost after epoch 195: 0.054717\n",
      "Cost after epoch 200: 0.040711\n",
      "Cost after epoch 205: 0.053864\n",
      "Cost after epoch 210: 0.056369\n",
      "Cost after epoch 215: 0.047169\n",
      "Cost after epoch 220: 0.035105\n",
      "Cost after epoch 225: 0.044080\n",
      "Cost after epoch 230: 0.050445\n",
      "Cost after epoch 235: 0.035203\n",
      "Cost after epoch 240: 0.029141\n",
      "Cost after epoch 245: 0.035038\n",
      "Cost after epoch 250: 0.023531\n",
      "Cost after epoch 255: 0.023556\n",
      "Cost after epoch 260: 0.037660\n",
      "Cost after epoch 265: 0.020443\n",
      "Cost after epoch 270: 0.017191\n",
      "Cost after epoch 275: 0.025840\n",
      "Cost after epoch 280: 0.015575\n",
      "Cost after epoch 285: 0.017850\n",
      "Cost after epoch 290: 0.021448\n",
      "Cost after epoch 295: 0.019452\n",
      "Cost after epoch 300: 0.011844\n",
      "Cost after epoch 305: 0.011361\n",
      "Cost after epoch 310: 0.010525\n",
      "Cost after epoch 315: 0.021289\n",
      "Cost after epoch 320: 0.023423\n",
      "Cost after epoch 325: 0.065021\n",
      "Cost after epoch 330: 0.017972\n",
      "Cost after epoch 335: 0.028314\n",
      "Cost after epoch 340: 0.009933\n",
      "Cost after epoch 345: 0.007614\n",
      "Cost after epoch 350: 0.005441\n",
      "Cost after epoch 355: 0.005554\n",
      "Cost after epoch 360: 0.006572\n",
      "Cost after epoch 365: 0.005050\n",
      "Cost after epoch 370: 0.005519\n",
      "Cost after epoch 375: 0.004504\n",
      "Cost after epoch 380: 0.006089\n",
      "Cost after epoch 385: 0.004133\n",
      "Cost after epoch 390: 0.004072\n",
      "Cost after epoch 395: 0.003902\n",
      "Cost after epoch 400: 0.003312\n",
      "Cost after epoch 405: 0.003774\n",
      "Cost after epoch 410: 0.003159\n",
      "Cost after epoch 415: 0.002916\n",
      "Cost after epoch 420: 0.003302\n",
      "Cost after epoch 425: 0.003037\n",
      "Cost after epoch 430: 0.003558\n",
      "Cost after epoch 435: 0.002678\n",
      "Cost after epoch 440: 0.002653\n",
      "Cost after epoch 445: 0.002430\n",
      "Cost after epoch 450: 0.002277\n",
      "Cost after epoch 455: 0.002134\n",
      "Cost after epoch 460: 0.002017\n",
      "Cost after epoch 465: 0.002283\n",
      "Cost after epoch 470: 0.002352\n",
      "Cost after epoch 475: 0.002119\n",
      "Cost after epoch 480: 0.001684\n",
      "Cost after epoch 485: 0.001499\n",
      "Cost after epoch 490: 0.001572\n",
      "Cost after epoch 495: 0.001976\n",
      "Cost after epoch 500: 0.001983\n",
      "Cost after epoch 505: 0.009483\n",
      "Cost after epoch 510: 0.120686\n",
      "Cost after epoch 515: 0.011231\n",
      "Cost after epoch 520: 0.002750\n",
      "Cost after epoch 525: 0.002415\n",
      "Cost after epoch 530: 0.002320\n",
      "Cost after epoch 535: 0.002041\n",
      "Cost after epoch 540: 0.001954\n",
      "Cost after epoch 545: 0.001814\n",
      "Cost after epoch 550: 0.001763\n",
      "Cost after epoch 555: 0.001636\n",
      "Cost after epoch 560: 0.001649\n",
      "Cost after epoch 565: 0.001584\n",
      "Cost after epoch 570: 0.001511\n",
      "Cost after epoch 575: 0.001438\n",
      "Cost after epoch 580: 0.001467\n",
      "Cost after epoch 585: 0.001361\n",
      "Cost after epoch 590: 0.001365\n",
      "Cost after epoch 595: 0.001264\n",
      "Cost after epoch 600: 0.001265\n",
      "Cost after epoch 605: 0.001211\n",
      "Cost after epoch 610: 0.001192\n",
      "Cost after epoch 615: 0.001166\n",
      "Cost after epoch 620: 0.001127\n",
      "Cost after epoch 625: 0.001131\n",
      "Cost after epoch 630: 0.001075\n",
      "Cost after epoch 635: 0.001059\n",
      "Cost after epoch 640: 0.001029\n",
      "Cost after epoch 645: 0.000978\n",
      "Cost after epoch 650: 0.000975\n",
      "Cost after epoch 655: 0.000925\n",
      "Cost after epoch 660: 0.000908\n",
      "Cost after epoch 665: 0.000897\n",
      "Cost after epoch 670: 0.000901\n",
      "Cost after epoch 675: 0.000829\n",
      "Cost after epoch 680: 0.000811\n",
      "Cost after epoch 685: 0.000799\n",
      "Cost after epoch 690: 0.000821\n",
      "Cost after epoch 695: 0.000806\n",
      "Cost after epoch 700: 0.000817\n",
      "Cost after epoch 705: 0.000725\n",
      "Cost after epoch 710: 0.000738\n",
      "Cost after epoch 715: 0.000728\n",
      "Cost after epoch 720: 0.000700\n",
      "Cost after epoch 725: 0.000641\n",
      "Cost after epoch 730: 0.000647\n",
      "Cost after epoch 735: 0.000668\n",
      "Cost after epoch 740: 0.000604\n",
      "Cost after epoch 745: 0.000607\n",
      "Cost after epoch 750: 0.000599\n",
      "Cost after epoch 755: 0.000558\n",
      "Cost after epoch 760: 0.000586\n",
      "Cost after epoch 765: 0.000556\n",
      "Cost after epoch 770: 0.000524\n",
      "Cost after epoch 775: 0.000493\n",
      "Cost after epoch 780: 0.000473\n",
      "Cost after epoch 785: 0.000480\n",
      "Cost after epoch 790: 0.000472\n",
      "Cost after epoch 795: 0.000462\n",
      "Cost after epoch 800: 0.000446\n",
      "Cost after epoch 805: 0.000405\n",
      "Cost after epoch 810: 0.000414\n",
      "Cost after epoch 815: 0.000408\n",
      "Cost after epoch 820: 0.000369\n",
      "Cost after epoch 825: 0.000419\n",
      "Cost after epoch 830: 0.000373\n",
      "Cost after epoch 835: 0.000338\n",
      "Cost after epoch 840: 0.000318\n",
      "Cost after epoch 845: 0.000334\n",
      "Cost after epoch 850: 0.000300\n",
      "Cost after epoch 855: 0.000280\n",
      "Cost after epoch 860: 0.000296\n",
      "Cost after epoch 865: 0.000310\n",
      "Cost after epoch 870: 0.000264\n",
      "Cost after epoch 875: 0.000246\n",
      "Cost after epoch 880: 0.000256\n",
      "Cost after epoch 885: 0.000243\n",
      "Cost after epoch 890: 0.000238\n",
      "Cost after epoch 895: 0.000232\n",
      "Cost after epoch 900: 0.000296\n",
      "Cost after epoch 905: 0.000198\n",
      "Cost after epoch 910: 0.000208\n",
      "Cost after epoch 915: 0.000198\n",
      "Cost after epoch 920: 0.000193\n",
      "Cost after epoch 925: 0.000167\n",
      "Cost after epoch 930: 0.000167\n",
      "Cost after epoch 935: 0.000162\n",
      "Cost after epoch 940: 0.000157\n",
      "Cost after epoch 945: 0.000163\n",
      "Cost after epoch 950: 0.000134\n",
      "Cost after epoch 955: 0.000153\n",
      "Cost after epoch 960: 0.000141\n",
      "Cost after epoch 965: 0.000123\n",
      "Cost after epoch 970: 0.000124\n",
      "Cost after epoch 975: 0.000110\n",
      "Cost after epoch 980: 0.000111\n",
      "Cost after epoch 985: 0.000104\n",
      "Cost after epoch 990: 0.000102\n",
      "Cost after epoch 995: 0.000092\n"
     ]
    },
    {
     "data": {
      "image/png": "[encoded data removed]",
      "text/plain": [
       "<Figure size 432x288 with 1 Axes>"
      ]
     },
     "metadata": {
      "needs_background": "light"
     },
     "output_type": "display_data"
    },
    {
     "name": "stdout",
     "output_type": "stream",
     "text": [
      "Tensor(\"Mean_1:0\", shape=(), dtype=float32)\n",
      "Train Accuracy: 1.0\n",
      "Test Accuracy: 0.89166665\n"
     ]
    }
   ],
   "source": [
    "_, _, parameters = model(X_train, Y_train, X_test, Y_test)"
   ]
  },
  {
   "cell_type": "code",
   "execution_count": null,
   "metadata": {},
   "outputs": [],
   "source": []
  },
  {
   "cell_type": "code",
   "execution_count": null,
   "metadata": {},
   "outputs": [],
   "source": []
  }
 ],
 "metadata": {
  "kernelspec": {
   "display_name": "Python 3",
   "language": "python",
   "name": "python3"
  },
  "language_info": {
   "codemirror_mode": {
    "name": "ipython",
    "version": 3
   },
   "file_extension": ".py",
   "mimetype": "text/x-python",
   "name": "python",
   "nbconvert_exporter": "python",
   "pygments_lexer": "ipython3",
   "version": "3.7.4"
  }
 },
 "nbformat": 4,
 "nbformat_minor": 2
}
